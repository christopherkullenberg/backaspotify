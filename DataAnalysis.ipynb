{
 "cells": [
  {
   "cell_type": "markdown",
   "metadata": {},
   "source": [
    "# The Political Significance of Spotify - Anonymized data and source code\n",
    "\n",
    "## Introduction\n",
    "\n",
    "This notebook contains the necessary code for reproducing most figures in Fleischer & Kullenberg (2018) \"The Political Significance of Spotify in Sweden - Analysing the #backaspotify Campaign using Twitter Data\", *Culture Unbound*, Vol, No.\n",
    "\n",
    "Even though the Twitter data was retrieved from the public-facing Twitter API, it has been anonymized cryptographically (see Appendix). The usernames and user IDs have been replaced with hashsums and the content data (Twitter messages) have been disconnected into a separate file where it has been re-ordered to prevent the content data to be connected with the meta-data. \n",
    "\n",
    "The network visualization from the original article has been left out of this notebook since it requires content data and meta data to be connected. \n",
    "\n",
    "This notebook was written by Christopher Kullenberg (christopher.kullenberg@gu.se) and is published using the MIT license (https://opensource.org/licenses/MIT). Feel free to reuse the code, but if you use it for academic publications, please cite the original article and/or this notebook.\n",
    "\n",
    "## Contents\n",
    "1. Read data\n",
    "2. Timeline figure of the campaign\n",
    "3. Frequent users\n",
    "4. Word frequencies\n",
    "5. Appendix: Encryption method of original data"
   ]
  },
  {
   "cell_type": "code",
   "execution_count": 32,
   "metadata": {
    "collapsed": true
   },
   "outputs": [],
   "source": [
    "import pandas as pd\n",
    "import seaborn as sns\n",
    "import sqlite3                         # remove later\n",
    "import matplotlib.pyplot as plt\n",
    "%matplotlib inline\n",
    "from nltk import TweetTokenizer\n",
    "from nltk.corpus import stopwords\n",
    "from nltk import word_tokenize\n",
    "from collections import Counter"
   ]
  },
  {
   "cell_type": "markdown",
   "metadata": {},
   "source": [
    "## 1. Read data\n",
    "\n",
    "The anonymized data is read from two different files, that have been disconnected from each other to prevent content data to be connected to meta data:\n",
    "\n",
    "* backaspotifyAnalysisAnonymized.csv - meta data (timestamps, hashed usernames).\n",
    "* backaspotifyContentAnonymized.csv - content data of tweets, scrambled order.\n",
    "\n",
    "The files are read into two Pandas dataframes for convenient access."
   ]
  },
  {
   "cell_type": "code",
   "execution_count": 37,
   "metadata": {
    "collapsed": true
   },
   "outputs": [],
   "source": [
    "# Anonymized (hashed) meta-data\n",
    "df = pd.read_csv(\"anonymized_data/backaspotifyAnalysisAnonymized.csv\")\n",
    "\n",
    "# Disordered plaintext content data\n",
    "dfcontent = pd.read_csv(\"anonymized_data/backaspotifyContentAnonymized.csv\") "
   ]
  },
  {
   "cell_type": "code",
   "execution_count": 38,
   "metadata": {
    "collapsed": false
   },
   "outputs": [
    {
     "data": {
      "text/html": [
       "<div>\n",
       "<style scoped>\n",
       "    .dataframe tbody tr th:only-of-type {\n",
       "        vertical-align: middle;\n",
       "    }\n",
       "\n",
       "    .dataframe tbody tr th {\n",
       "        vertical-align: top;\n",
       "    }\n",
       "\n",
       "    .dataframe thead th {\n",
       "        text-align: right;\n",
       "    }\n",
       "</style>\n",
       "<table border=\"1\" class=\"dataframe\">\n",
       "  <thead>\n",
       "    <tr style=\"text-align: right;\">\n",
       "      <th></th>\n",
       "      <th>id</th>\n",
       "      <th>created_at</th>\n",
       "      <th>author</th>\n",
       "      <th>location</th>\n",
       "      <th>retweet_count</th>\n",
       "    </tr>\n",
       "    <tr>\n",
       "      <th>created_at</th>\n",
       "      <th></th>\n",
       "      <th></th>\n",
       "      <th></th>\n",
       "      <th></th>\n",
       "      <th></th>\n",
       "    </tr>\n",
       "  </thead>\n",
       "  <tbody>\n",
       "    <tr>\n",
       "      <th>2016-04-19 15:38:28</th>\n",
       "      <td>9a59905254ea6d4e37b597872c7ff8ffd34eedbb11edbb...</td>\n",
       "      <td>2016-04-19 15:38:28</td>\n",
       "      <td>bfc8763248fb4db3714b1b025db5207365a600d8c79384...</td>\n",
       "      <td>Stockholm</td>\n",
       "      <td>5</td>\n",
       "    </tr>\n",
       "    <tr>\n",
       "      <th>2016-04-19 15:25:31</th>\n",
       "      <td>d779f0e83afdd2f0a4cc715a66b325aa0bae4ba4fe9d07...</td>\n",
       "      <td>2016-04-19 15:25:31</td>\n",
       "      <td>b083ac71fd17558891a83b5222e991e11a795a28acf4d5...</td>\n",
       "      <td>Stockholm</td>\n",
       "      <td>0</td>\n",
       "    </tr>\n",
       "    <tr>\n",
       "      <th>2016-04-19 15:18:46</th>\n",
       "      <td>8ad784e1857c0e55dc34a51f99c4e88432ee09bd24d338...</td>\n",
       "      <td>2016-04-19 15:18:46</td>\n",
       "      <td>7b53accdd5c748c026036c7607784b2cf573aeb853687b...</td>\n",
       "      <td>Sweden</td>\n",
       "      <td>5</td>\n",
       "    </tr>\n",
       "    <tr>\n",
       "      <th>2016-04-19 15:17:37</th>\n",
       "      <td>4f1e70ec7272fd89955ef6f1946bf69f5b29dbd3b5cd05...</td>\n",
       "      <td>2016-04-19 15:17:37</td>\n",
       "      <td>faf85b4a7be25b0fa15684d7cd359b5415fd598aff0ae4...</td>\n",
       "      <td>NaN</td>\n",
       "      <td>5</td>\n",
       "    </tr>\n",
       "    <tr>\n",
       "      <th>2016-04-19 14:31:24</th>\n",
       "      <td>3a50141e5eb133b407a0b9a1df914dc452065d63160e5e...</td>\n",
       "      <td>2016-04-19 14:31:24</td>\n",
       "      <td>12bcc8051b172f875977e6ce834d5e89f0f10de8be445e...</td>\n",
       "      <td>Stockholm</td>\n",
       "      <td>5</td>\n",
       "    </tr>\n",
       "  </tbody>\n",
       "</table>\n",
       "</div>"
      ],
      "text/plain": [
       "                                                                    id  \\\n",
       "created_at                                                               \n",
       "2016-04-19 15:38:28  9a59905254ea6d4e37b597872c7ff8ffd34eedbb11edbb...   \n",
       "2016-04-19 15:25:31  d779f0e83afdd2f0a4cc715a66b325aa0bae4ba4fe9d07...   \n",
       "2016-04-19 15:18:46  8ad784e1857c0e55dc34a51f99c4e88432ee09bd24d338...   \n",
       "2016-04-19 15:17:37  4f1e70ec7272fd89955ef6f1946bf69f5b29dbd3b5cd05...   \n",
       "2016-04-19 14:31:24  3a50141e5eb133b407a0b9a1df914dc452065d63160e5e...   \n",
       "\n",
       "                              created_at  \\\n",
       "created_at                                 \n",
       "2016-04-19 15:38:28  2016-04-19 15:38:28   \n",
       "2016-04-19 15:25:31  2016-04-19 15:25:31   \n",
       "2016-04-19 15:18:46  2016-04-19 15:18:46   \n",
       "2016-04-19 15:17:37  2016-04-19 15:17:37   \n",
       "2016-04-19 14:31:24  2016-04-19 14:31:24   \n",
       "\n",
       "                                                                author  \\\n",
       "created_at                                                               \n",
       "2016-04-19 15:38:28  bfc8763248fb4db3714b1b025db5207365a600d8c79384...   \n",
       "2016-04-19 15:25:31  b083ac71fd17558891a83b5222e991e11a795a28acf4d5...   \n",
       "2016-04-19 15:18:46  7b53accdd5c748c026036c7607784b2cf573aeb853687b...   \n",
       "2016-04-19 15:17:37  faf85b4a7be25b0fa15684d7cd359b5415fd598aff0ae4...   \n",
       "2016-04-19 14:31:24  12bcc8051b172f875977e6ce834d5e89f0f10de8be445e...   \n",
       "\n",
       "                      location  retweet_count  \n",
       "created_at                                     \n",
       "2016-04-19 15:38:28  Stockholm              5  \n",
       "2016-04-19 15:25:31  Stockholm              0  \n",
       "2016-04-19 15:18:46     Sweden              5  \n",
       "2016-04-19 15:17:37        NaN              5  \n",
       "2016-04-19 14:31:24  Stockholm              5  "
      ]
     },
     "execution_count": 38,
     "metadata": {},
     "output_type": "execute_result"
    }
   ],
   "source": [
    "# Make index from timestamp with proper formatting\n",
    "pd.created_at = pd.to_datetime(df.created_at, \n",
    "                               format='%Y-%m-%d %H:%M:%S')\n",
    "df.index = pd.created_at\n",
    "df.head()"
   ]
  },
  {
   "cell_type": "code",
   "execution_count": 39,
   "metadata": {
    "collapsed": false
   },
   "outputs": [
    {
     "data": {
      "text/plain": [
       "DatetimeIndex(['2016-04-19 15:38:28', '2016-04-19 15:25:31',\n",
       "               '2016-04-19 15:18:46', '2016-04-19 15:17:37',\n",
       "               '2016-04-19 14:31:24', '2016-04-19 14:31:05',\n",
       "               '2016-04-19 14:30:14', '2016-04-19 10:45:35',\n",
       "               '2016-04-19 10:34:42', '2016-04-19 10:33:32',\n",
       "               ...\n",
       "               '2016-04-22 08:44:43', '2016-04-22 08:44:26',\n",
       "               '2016-04-22 08:29:45', '2016-04-22 08:28:44',\n",
       "               '2016-04-22 08:28:27', '2016-04-22 08:11:40',\n",
       "               '2016-04-22 07:06:37', '2016-04-22 06:29:17',\n",
       "               '2016-04-22 06:28:57', '2016-04-21 19:11:10'],\n",
       "              dtype='datetime64[ns]', name='created_at', length=1791, freq=None)"
      ]
     },
     "execution_count": 39,
     "metadata": {},
     "output_type": "execute_result"
    }
   ],
   "source": [
    "df.index"
   ]
  },
  {
   "cell_type": "code",
   "execution_count": 40,
   "metadata": {
    "collapsed": false
   },
   "outputs": [
    {
     "data": {
      "text/html": [
       "<div>\n",
       "<style scoped>\n",
       "    .dataframe tbody tr th:only-of-type {\n",
       "        vertical-align: middle;\n",
       "    }\n",
       "\n",
       "    .dataframe tbody tr th {\n",
       "        vertical-align: top;\n",
       "    }\n",
       "\n",
       "    .dataframe thead th {\n",
       "        text-align: right;\n",
       "    }\n",
       "</style>\n",
       "<table border=\"1\" class=\"dataframe\">\n",
       "  <thead>\n",
       "    <tr style=\"text-align: right;\">\n",
       "      <th></th>\n",
       "      <th>tweet</th>\n",
       "    </tr>\n",
       "  </thead>\n",
       "  <tbody>\n",
       "    <tr>\n",
       "      <th>0</th>\n",
       "      <td>RT @annieloof: Idag lämnar Centerpartiet in en...</td>\n",
       "    </tr>\n",
       "    <tr>\n",
       "      <th>1</th>\n",
       "      <td>RT @Centerpartiet: Läs @annieloof &amp;amp; @emilk...</td>\n",
       "    </tr>\n",
       "    <tr>\n",
       "      <th>2</th>\n",
       "      <td>@andquist Ja, backaspotify blev lite fjantigt,...</td>\n",
       "    </tr>\n",
       "    <tr>\n",
       "      <th>3</th>\n",
       "      <td>RT @didigital_se: Missade ni veckans Digitalpo...</td>\n",
       "    </tr>\n",
       "    <tr>\n",
       "      <th>4</th>\n",
       "      <td>@jenskoenberg GPs ledarsida kan du sätta på re...</td>\n",
       "    </tr>\n",
       "  </tbody>\n",
       "</table>\n",
       "</div>"
      ],
      "text/plain": [
       "                                               tweet\n",
       "0  RT @annieloof: Idag lämnar Centerpartiet in en...\n",
       "1  RT @Centerpartiet: Läs @annieloof &amp; @emilk...\n",
       "2  @andquist Ja, backaspotify blev lite fjantigt,...\n",
       "3  RT @didigital_se: Missade ni veckans Digitalpo...\n",
       "4  @jenskoenberg GPs ledarsida kan du sätta på re..."
      ]
     },
     "execution_count": 40,
     "metadata": {},
     "output_type": "execute_result"
    }
   ],
   "source": [
    "\"\"\" \n",
    "Note, the order of this data has been \n",
    "intentionally disordered for the purpose of \n",
    "anonymization. There is no time-structure to it\n",
    "\"\"\"\n",
    "dfcontent.head()          "
   ]
  },
  {
   "cell_type": "markdown",
   "metadata": {},
   "source": [
    "## 2. Timeline figure of the campaign\n",
    "\n",
    "To detect external events qualitatively in a stream of Twitter messages, it is sometimes possible to use a timeline to reconstruct the chain of events. When spikes are found in the data, such events can be used as point of entry to see what triggered the activity. \n",
    "\n",
    "This figure resamples the timestamps into day-for-day chunks to make it possible to plot \n",
    "the number of Twitter messages on a readable timeline."
   ]
  },
  {
   "cell_type": "code",
   "execution_count": 41,
   "metadata": {
    "collapsed": false
   },
   "outputs": [
    {
     "data": {
      "text/plain": [
       "Text(0,0.5,'Tweets')"
      ]
     },
     "execution_count": 41,
     "metadata": {},
     "output_type": "execute_result"
    },
    {
     "data": {
      "image/png": "[encoded data removed]",
      "text/plain": [
       "<matplotlib.figure.Figure at 0x7f4bf77b9d68>"
      ]
     },
     "metadata": {},
     "output_type": "display_data"
    }
   ],
   "source": [
    "tweetsperday = df.resample('D').count()\n",
    "\n",
    "fig = plt.figure(figsize=(15,7))\n",
    "ax = fig.add_subplot(111)\n",
    "\n",
    "plt.title('Twitter messages per day, \\\n",
    "#backaspotify hashtag', size=16)\n",
    "\n",
    "plt.text(0.01, 0.95,'Medium post',\n",
    "     horizontalalignment='left',\n",
    "     verticalalignment='center',\n",
    "     transform = ax.transAxes, size=14)\n",
    "\n",
    "plt.text(0.15, 0.8,'Milttonlabs Twitter accounts',\n",
    "     horizontalalignment='center',\n",
    "     verticalalignment='center',\n",
    "     transform = ax.transAxes, size=14)\n",
    "\n",
    "plt.text(0.16, 0.23,'@annieloof tweets',\n",
    "     horizontalalignment='left',\n",
    "     verticalalignment='center',\n",
    "     transform = ax.transAxes, size=14)\n",
    "\n",
    "plt.text(0.55, 0.4,\n",
    "    'Dagens Arena story +\\n@SthlmChamber event',\n",
    "     horizontalalignment='left',\n",
    "     verticalalignment='center',\n",
    "     transform = ax.transAxes, size=14)\n",
    "\n",
    "tweetsperday['id'].plot() #Plot each individual tweet per day\n",
    "\n",
    "plt.xlabel('Date')\n",
    "plt.ylabel('Tweets')\n",
    "\n",
    "#plt.savefig('figures/figure5.eps', format='eps', dpi=600)\n",
    "#plt.savefig('figures/figure5.png', format='png', dpi=600)\n",
    "#plt.savefig('figures/figure5.svg', format='svg', dpi=600)"
   ]
  },
  {
   "cell_type": "markdown",
   "metadata": {},
   "source": [
    "## 3. Frequent users\n",
    "This function counts how many tweets each user in the dataset has produced and draws a bar plot. In this notebook the usernames are replaced with hashsums."
   ]
  },
  {
   "cell_type": "code",
   "execution_count": 42,
   "metadata": {
    "collapsed": false
   },
   "outputs": [
    {
     "data": {
      "text/plain": [
       "[Text(0,0.5,'Tweets'), Text(0.5,0,'Users')]"
      ]
     },
     "execution_count": 42,
     "metadata": {},
     "output_type": "execute_result"
    },
    {
     "data": {
      "image/png": "[encoded data removed]",
      "text/plain": [
       "<matplotlib.figure.Figure at 0x7f4bf3c85ac8>"
      ]
     },
     "metadata": {},
     "output_type": "display_data"
    }
   ],
   "source": [
    "counter = 0\n",
    "users = []\n",
    "for d in df.author.iteritems():\n",
    "    # the len of d is 7\n",
    "    #print(d[2])\n",
    "    counter += 1\n",
    "    users.append(d[1][0:10]) # Ten first chars for readability, remove for print\n",
    "\n",
    "userfreq = {}\n",
    "for user in Counter(users).most_common(10):\n",
    "    #print(user[0] + \"\\t\" + str(user[1]))\n",
    "    userfreq[user[0]] = user[1]\n",
    "\n",
    "dfusers = pd.DataFrame.from_dict(userfreq, orient=\"index\")\n",
    "dfusers = dfusers.sort_values(by=0, ascending=True)\n",
    "\n",
    "fig = plt.figure(figsize=(15,7))\n",
    "ax = fig.add_subplot(111)\n",
    "\n",
    "userplot = sns.barplot(x=dfusers.index, \n",
    "                       y=dfusers[0], data=dfusers, \n",
    "                       palette=\"coolwarm\")\n",
    "\n",
    "ax.set(xlabel='Users', ylabel='Tweets')\n",
    "#plt.savefig('figures/figure2.eps', format='eps', dpi=600)\n",
    "#plt.savefig('figures/figure2.png', format='png', dpi=600)\n",
    "#plt.savefig('figures/figure2.svg', format='svg', dpi=600)"
   ]
  },
  {
   "cell_type": "markdown",
   "metadata": {},
   "source": [
    "## 4. Word frequencies\n",
    "Creates a word frequency chart by counting the most frequent words. This is a very simple method for detecting the main content of discussion. There is some filtering going for the purpose of selecting only relevant words:\n",
    "\n",
    "* URLs, @-tweets and the searched hashtag #backaspotify are removed\n",
    "* The NLTK Swedish Stopwords list is used to remove words without significant meaning, such as \"och\", \"eller\", \"i\"."
   ]
  },
  {
   "cell_type": "code",
   "execution_count": 43,
   "metadata": {},
   "outputs": [
    {
     "name": "stdout",
     "output_type": "stream",
     "text": [
      "[nltk_data] Downloading package stopwords to /home/anon/nltk_data...\n",
      "[nltk_data]   Package stopwords is already up-to-date!\n"
     ]
    },
    {
     "data": {
      "text/plain": [
       "True"
      ]
     },
     "execution_count": 43,
     "metadata": {},
     "output_type": "execute_result"
    }
   ],
   "source": [
    "import nltk\n",
    "nltk.download('stopwords')"
   ]
  },
  {
   "cell_type": "code",
   "execution_count": 44,
   "metadata": {
    "collapsed": false
   },
   "outputs": [
    {
     "data": {
      "image/png": "[encoded data removed]",
      "text/plain": [
       "<matplotlib.figure.Figure at 0x7f4bf45d3b70>"
      ]
     },
     "metadata": {},
     "output_type": "display_data"
    }
   ],
   "source": [
    "wordlist = []\n",
    "\n",
    "# Extracts tokens minus Swedish stopwords\n",
    "tokenlist = []\n",
    "for d in dfcontent.tweet.iteritems():\n",
    "    #print(stopwords.words('swedish'))\n",
    "    tknzr = TweetTokenizer()\n",
    "    dtokenized = tknzr.tokenize(d[1])\n",
    "    #print(dtokenized)\n",
    "    for token in dtokenized:\n",
    "        tokenlist.append(token)\n",
    "             \n",
    "for t in tokenlist:\n",
    "    if t not in stopwords.words('swedish'):\n",
    "        if len(t) > 2: #remove short special chars like :, ;, #\n",
    "            if t.startswith('http'): #remove links\n",
    "                continue\n",
    "            if t.startswith('@'): #remove users\n",
    "                continue\n",
    "            if t.startswith('#backaspotify') or t.startswith('#BackaSpotify'): #remove the core hashtags\n",
    "                continue\n",
    "            #print(t[0] + \"\\t\" + str(t[1]))\n",
    "            wordlist.append(t)\n",
    "\n",
    "word_freq = Counter(wordlist).most_common(15)\n",
    "\n",
    "wordfreqdict = {}\n",
    "\n",
    "for w in word_freq:\n",
    "    wordfreqdict[w[0]] = w[1]\n",
    "\n",
    "dfwords = pd.DataFrame.from_dict(wordfreqdict, orient=\"index\")\n",
    "dfwords = dfwords.sort_values(by=0, ascending=False)\n",
    "\n",
    "fig = plt.figure(figsize=(20,10))\n",
    "ax = fig.add_subplot(111)\n",
    "\n",
    "\n",
    "plot = sns.barplot(x=dfwords.index, y=dfwords[0], data=dfwords, palette=\"coolwarm\")\n",
    "for item in plot.get_xticklabels():\n",
    "    item.set_rotation(45)\n",
    "    item.set_fontsize(14)\n",
    "    \n",
    "#ax.set(xlabel='Words', ylabel='Frequency')\n",
    "plt.savefig('figures/figure1.eps', format='eps', dpi=600)\n",
    "plt.savefig('figures/figure1.png', format='png', dpi=600)\n",
    "plt.savefig('figures/figure1.svg', format='svg', dpi=600)"
   ]
  },
  {
   "cell_type": "markdown",
   "metadata": {},
   "source": [
    "## 5. Appendix: Encryption method of original data\n",
    "\n",
    "To make the data very difficult to re-construct, the user names and user ids were hashed cryptographically. This way, they could be prevented from naming a specific user in the dataset, while still preserving data integrity. Moreover, the data was split up between the content of the tweets (which is searchable) and the meta-data. The two files were disorganized to make it impossible to compare them row-for-row. \n",
    "\n",
    "The following code was used to hash the user names and ids:\n",
    "\n",
    "```python\n",
    "import hmac\n",
    "import hashlib\n",
    "\n",
    "def encrypt(username):\n",
    "    '''Takes a string as input and returns it encrypted.'''\n",
    "    digest = hmac.new(b'aSecretKeyword', username.encode(), hashlib.sha256)\n",
    "    encrypteusername = digest.hexdigest()\n",
    "    return encrypteusername\n",
    "\n",
    "dfanon = df\n",
    "dfanon['author'] = df['author'].apply(encrypt)\n",
    "dfanon['id'] = df['id'].apply(encrypt)\n",
    "\n",
    "#dfanon.to_csv(\"backaspotifyAnalysisAnonymized.csv\")\n",
    "```"
   ]
  },
  {
   "cell_type": "code",
   "execution_count": null,
   "metadata": {
    "collapsed": true
   },
   "outputs": [],
   "source": []
  }
 ],
 "metadata": {
  "anaconda-cloud": {},
  "kernelspec": {
   "display_name": "Python 3",
   "language": "python",
   "name": "python3"
  },
  "language_info": {
   "codemirror_mode": {
    "name": "ipython",
    "version": 3
   },
   "file_extension": ".py",
   "mimetype": "text/x-python",
   "name": "python",
   "nbconvert_exporter": "python",
   "pygments_lexer": "ipython3",
   "version": "3.6.4"
  }
 },
 "nbformat": 4,
 "nbformat_minor": 2
}
